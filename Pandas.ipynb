{
 "cells": [
  {
   "cell_type": "markdown",
   "id": "3d96a042-ca5d-47ed-8212-c8cc33fd776b",
   "metadata": {},
   "source": [
    "## 1. Getting Familiar with Pandas"
   ]
  },
  {
   "cell_type": "code",
   "execution_count": 1,
   "id": "4850aca3-c3cc-4cd7-a35f-662c48e918b9",
   "metadata": {},
   "outputs": [],
   "source": [
    "import pandas as pd\n",
    "import numpy as np\n",
    "\n",
    "# 1. Getting Familiar with Pandas\n",
    "# Creating DataFrames and Series\n",
    "data_dict = {'Name': ['AxeKing', 'Hilter', 'CharlieKing'], 'Age': [55, 90, 55]}\n",
    "df = pd.DataFrame(data_dict)\n",
    "series = pd.Series([1, 2, 3, 4])\n"
   ]
  },
  {
   "cell_type": "code",
   "execution_count": 2,
   "id": "d2dcc113-f570-4439-af11-4cb56fe0c5c2",
   "metadata": {},
   "outputs": [],
   "source": [
    "# Selecting data and modifying DataFrames\n",
    "selected_data = df[df['Age'] > 28]\n",
    "df['Age'] = df['Age'] + 1  # Incrementing age by 1"
   ]
  },
  {
   "cell_type": "code",
   "execution_count": 10,
   "id": "25331e02-0cdc-4995-8d7b-11195f19706d",
   "metadata": {},
   "outputs": [
    {
     "name": "stdout",
     "output_type": "stream",
     "text": [
      "          Name  Age\n",
      "0      AxeKing   56\n",
      "1       Hilter   91\n",
      "2  CharlieKing   56\n"
     ]
    }
   ],
   "source": [
    "# 2. Data Handling with Pandas\n",
    "# Reading data from a CSV file\n",
    "df.to_csv('sample_data.csv', index=False)\n",
    "df_loaded = pd.read_csv('sample_data.csv')\n",
    "print(df_loaded)"
   ]
  },
  {
   "cell_type": "code",
   "execution_count": 11,
   "id": "99bd1da4-fb8c-4e85-9cdf-f9969410c03a",
   "metadata": {},
   "outputs": [
    {
     "name": "stdout",
     "output_type": "stream",
     "text": [
      "          Name   Age\n",
      "0      AxeKing  56.0\n",
      "1       Hilter  56.0\n",
      "2  CharlieKing  56.0\n"
     ]
    }
   ],
   "source": [
    "# Handling missing data\n",
    "df_loaded.loc[1, 'Age'] = np.nan  # Introduce a missing value\n",
    "df_filled = df_loaded.fillna(df_loaded['Age'].mean())  # Fill missing values with the mean\n",
    "print(df_filled)"
   ]
  },
  {
   "cell_type": "code",
   "execution_count": 12,
   "id": "ffd3fdd6-cf3b-495b-9c87-1c265c446bed",
   "metadata": {},
   "outputs": [
    {
     "name": "stdout",
     "output_type": "stream",
     "text": [
      "          Name   Age\n",
      "0      AxeKing  56.0\n",
      "1       Hilter  56.0\n",
      "2  CharlieKing  56.0\n"
     ]
    }
   ],
   "source": [
    "# Removing duplicates\n",
    "df_filled = df_filled.drop_duplicates()\n",
    "print(df_filled)"
   ]
  },
  {
   "cell_type": "code",
   "execution_count": 13,
   "id": "f191a3b1-97d2-41b6-b789-5ebf03a54bb6",
   "metadata": {},
   "outputs": [
    {
     "name": "stdout",
     "output_type": "stream",
     "text": [
      "0    56\n",
      "1    56\n",
      "2    56\n",
      "Name: Age, dtype: int32\n"
     ]
    }
   ],
   "source": [
    "# Data type conversion\n",
    "df_filled['Age'] = df_filled['Age'].astype(int)\n",
    "print(df_filled['Age'])"
   ]
  },
  {
   "cell_type": "code",
   "execution_count": null,
   "id": "1b86d0fb-08d5-4041-be27-ee0ac50fe8ec",
   "metadata": {},
   "outputs": [],
   "source": []
  },
  {
   "cell_type": "markdown",
   "id": "74843ee4-63b9-4f5c-a7de-7c4f31b22505",
   "metadata": {},
   "source": [
    "## 3. Data Analysis with Pandas"
   ]
  },
  {
   "cell_type": "code",
   "execution_count": 14,
   "id": "b6bbc7a4-2905-4f0f-be23-082ebc460088",
   "metadata": {},
   "outputs": [
    {
     "name": "stdout",
     "output_type": "stream",
     "text": [
      "               0\n",
      "count  15.000000\n",
      "mean    7.000000\n",
      "std     4.472136\n",
      "min     0.000000\n",
      "25%     3.500000\n",
      "50%     7.000000\n",
      "75%    10.500000\n",
      "max    14.000000\n",
      "     0\n",
      "0    0\n",
      "1    1\n",
      "2    2\n",
      "3    3\n",
      "4    4\n",
      "5    5\n",
      "6    6\n",
      "7    7\n",
      "8    8\n",
      "9    9\n",
      "10  10\n",
      "11  11\n",
      "12  12\n",
      "13  13\n",
      "14  14\n"
     ]
    }
   ],
   "source": [
    "import pandas as pd\n",
    "import numpy as np\n",
    "df=pd.DataFrame(np.arange(15))\n",
    "# Assuming df is your DataFrame\n",
    "summary_stats = df.describe()\n",
    "df1 = pd.DataFrame({'key': ['A', 'B', 'C'], 'value1': [1, 2, 3]})\n",
    "df2 = pd.DataFrame({'key': ['A', 'B', 'D'], 'value2': [4, 5, 6]})\n",
    "print(summary_stats)\n",
    "print(df)"
   ]
  },
  {
   "cell_type": "code",
   "execution_count": 15,
   "id": "1be039f8-8c08-43bb-826e-2f7360ccbdfa",
   "metadata": {},
   "outputs": [
    {
     "name": "stdout",
     "output_type": "stream",
     "text": [
      "7.0\n",
      "7.0\n",
      "4.47213595499958\n"
     ]
    }
   ],
   "source": [
    "mean_value = df[0].mean()\n",
    "median_value = df[0].median()\n",
    "std_dev = df[0].std()\n",
    "print(mean_value)\n",
    "print(median_value)\n",
    "print(std_dev)"
   ]
  },
  {
   "cell_type": "code",
   "execution_count": 19,
   "id": "41d8a53d-8faf-4f4b-884e-05a52b55b378",
   "metadata": {},
   "outputs": [
    {
     "name": "stdout",
     "output_type": "stream",
     "text": [
      "  key  value1  value2\n",
      "0   A       1       4\n",
      "1   B       2       5\n"
     ]
    }
   ],
   "source": [
    "merged_df = pd.merge(df1, df2, on='key', how='inner')\n",
    "print(merged_df)"
   ]
  },
  {
   "cell_type": "code",
   "execution_count": 20,
   "id": "e357b8dd-7ea5-45af-a06a-0356d8462fec",
   "metadata": {},
   "outputs": [
    {
     "name": "stdout",
     "output_type": "stream",
     "text": [
      "   value1  value2\n",
      "A       1       4\n",
      "B       2       5\n"
     ]
    }
   ],
   "source": [
    "df1 = pd.DataFrame({'value1': [1, 2, 3]}, index=['A', 'B', 'C'])\n",
    "df2 = pd.DataFrame({'value2': [4, 5, 6]}, index=['A', 'B', 'D'])\n",
    "joined_df = df1.join(df2, how='inner') \n",
    "print(joined_df)"
   ]
  },
  {
   "cell_type": "code",
   "execution_count": 21,
   "id": "55ec89f3-c032-4b18-8476-f5f9c4cf5ca5",
   "metadata": {},
   "outputs": [
    {
     "name": "stdout",
     "output_type": "stream",
     "text": [
      "   value1  value2\n",
      "A     1.0     NaN\n",
      "B     2.0     NaN\n",
      "C     3.0     NaN\n",
      "A     NaN     4.0\n",
      "B     NaN     5.0\n",
      "D     NaN     6.0\n"
     ]
    }
   ],
   "source": [
    "concatenated_df = pd.concat([df1, df2], axis=0)  # For row-wise concatenation\n",
    "print(concatenated_df)"
   ]
  },
  {
   "cell_type": "code",
   "execution_count": null,
   "id": "43aca27c-03a8-4ed5-a4d9-c76bd484b53e",
   "metadata": {},
   "outputs": [],
   "source": []
  },
  {
   "cell_type": "markdown",
   "id": "126ccc3e-fca3-4d18-aa68-e714cf370cb0",
   "metadata": {},
   "source": [
    "### How Pandas Helps Data Science Professionals\n",
    "\n",
    "Pandas is a powerful Python library for data manipulation and analysis, offering significant advantages over traditional data structures like lists and dictionaries:\n",
    "\n",
    "**Data Handling and Analysis:**\n",
    "- **Efficient Structures:** Pandas’ Series (1D) and DataFrame (2D) handle large datasets and complex operations seamlessly.\n",
    "- **Ease of Use:** Simplifies data filtering, aggregation, and transformation with concise code.\n",
    "\n",
    "**Advantages Over Traditional Structures:**\n",
    "- **Performance:** Faster vectorized operations compared to looping through lists.\n",
    "- **Missing Data:** Built-in functions for detecting and handling missing values.\n",
    "- **Advanced Manipulation:** Easy merging, joining, and grouping.\n",
    "- **Data Alignment:** Automatic alignment based on indexes.\n",
    "\n",
    "### Real-World Applications of Pandas\n",
    "\n",
    "**Data Cleaning:**\n",
    "- **Handling Missing Data:** Use `dropna()` and `fillna()`.\n",
    "- **Data Transformation:** Functions like `apply()`, `map()`, and `replace()`.\n",
    "\n",
    "**Exploratory Data Analysis (EDA):**\n",
    "- **Summary Statistics:** Use `describe()` for a quick overview.\n",
    "- **Visualization:** Integrates with Matplotlib and Seaborn for plotting data.\n",
    "\n",
    "**Applications:**\n",
    "- **Finance:** Analyzing stock prices and financial records.\n",
    "- **Healthcare:** Managing patient records and clinical data.\n",
    "- **E-commerce:** Analyzing customer behavior and tracking sales."
   ]
  },
  {
   "cell_type": "code",
   "execution_count": null,
   "id": "fec4d35c-905e-498b-9c5f-815af7e68b0d",
   "metadata": {},
   "outputs": [],
   "source": []
  },
  {
   "cell_type": "code",
   "execution_count": null,
   "id": "1f8987e2-5a65-49bf-9e9e-737ba106553a",
   "metadata": {},
   "outputs": [],
   "source": []
  }
 ],
 "metadata": {
  "kernelspec": {
   "display_name": "Python 3 (ipykernel)",
   "language": "python",
   "name": "python3"
  },
  "language_info": {
   "codemirror_mode": {
    "name": "ipython",
    "version": 3
   },
   "file_extension": ".py",
   "mimetype": "text/x-python",
   "name": "python",
   "nbconvert_exporter": "python",
   "pygments_lexer": "ipython3",
   "version": "3.12.4"
  }
 },
 "nbformat": 4,
 "nbformat_minor": 5
}
